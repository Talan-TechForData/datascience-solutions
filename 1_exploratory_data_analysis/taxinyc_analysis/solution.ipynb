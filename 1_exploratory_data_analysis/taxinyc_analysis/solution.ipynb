{
 "cells": [
  {
   "cell_type": "markdown",
   "metadata": {},
   "source": [
    "# Exploratory Data Analysis Taxi NYC\n",
    "\n",
    "In case you do not dispose from a local environment please launch this repository from: \n",
    "\n",
    "[![Binder](https://mybinder.org/badge_logo.svg)](https://mybinder.org/v2/gh/aladinoster/datascience-exercises/HEAD?labpath=notebook-practice.ipynb) \n",
    "[![Colab](https://colab.research.google.com/assets/colab-badge.svg)](https://colab.research.google.com/github/aladinoster/datascience-exercises/blob/main/notebook-practice.ipynb)\n",
    "\n",
    "## Situational Description\n",
    "\n",
    "Within the folder `1_exploratory_data_analysis/taxinyc_analysis/` you will find a single file containing events from  a time series, this events correspond to messages received from trains \n",
    "where each line corresponds to an event registred by the train. "
   ]
  },
  {
   "cell_type": "markdown",
   "metadata": {},
   "source": []
  },
  {
   "cell_type": "code",
   "execution_count": null,
   "metadata": {},
   "outputs": [],
   "source": []
  }
 ],
 "metadata": {
  "language_info": {
   "name": "python"
  }
 },
 "nbformat": 4,
 "nbformat_minor": 2
}
