{
 "cells": [
  {
   "cell_type": "markdown",
   "metadata": {},
   "source": [
    "# <Problem title here>\n",
    "\n",
    "In case you do not dispose from a local environment please launch this repository from: \n",
    "\n",
    "Please format the following code snippets to be able to launch from web:\n",
    "\n",
    "```\n",
    "[![Binder](https://mybinder.org/badge_logo.svg)](https://mybinder.org/v2/gh/aladinoster/datascience-exercises/HEAD?labpath=notebook-practice.ipynb) \n",
    "[![Colab](https://colab.research.google.com/assets/colab-badge.svg)](https://colab.research.google.com/github/aladinoster/datascience-exercises/blob/main/notebook-practice.ipynb)\n",
    "```\n",
    "\n",
    "[![Binder](https://mybinder.org/badge_logo.svg)](https://mybinder.org/v2/gh/aladinoster/datascience-exercises/HEAD?labpath=notebook-practice.ipynb) \n",
    "[![Colab](https://colab.research.google.com/assets/colab-badge.svg)](https://colab.research.google.com/github/aladinoster/datascience-exercises/blob/main/notebook-practice.ipynb)\n",
    "\n",
    "## Situational Description\n"
   ]
  },
  {
   "cell_type": "code",
   "execution_count": null,
   "metadata": {},
   "outputs": [],
   "source": []
  }
 ],
 "metadata": {
  "language_info": {
   "name": "python"
  }
 },
 "nbformat": 4,
 "nbformat_minor": 2
}
