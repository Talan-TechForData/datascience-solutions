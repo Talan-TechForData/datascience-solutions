{
 "cells": [
  {
   "cell_type": "markdown",
   "metadata": {},
   "source": [
    "# Exploratory Data Analysis Taxi NYC\n",
    "\n",
    "In case you do not dispose from a local environment please launch this repository from: \n",
    "\n",
    "[![Binder](https://mybinder.org/badge_logo.svg)](https://mybinder.org/v2/gh/Talan-TechForData/datascience-questions/HEAD?labpath=1_exploratory_data_analysis/taxinyc_analysis/problem.ipynb)\n",
    "[![Colab](https://colab.research.google.com/assets/colab-badge.svg)](https://colab.research.google.com/github/aladinoster/datascience-exercises/blob/main/notebook-practice.ipynb)\n",
    "\n",
    "## Situational Description\n",
    "\n",
    "Within the folder `1_exploratory_data_analysis/taxinyc_analysis/` you will find a single file containing events from  a time series, this events correspond to messages received from trains \n",
    "where each line corresponds to an event registred by the train. "
   ]
  },
  {
   "cell_type": "markdown",
   "metadata": {},
   "source": []
  },
  {
   "cell_type": "code",
   "execution_count": 1,
   "metadata": {},
   "outputs": [
    {
     "name": "stdout",
     "output_type": "stream",
     "text": [
      "Requirement already satisfied: jupysql in /Users/andresladino/13-Talan/datascience-solutions/.venv/lib/python3.12/site-packages (0.10.17)\n",
      "Requirement already satisfied: duckdb-engine in /Users/andresladino/13-Talan/datascience-solutions/.venv/lib/python3.12/site-packages (0.15.0)\n",
      "Requirement already satisfied: geopandas in /Users/andresladino/13-Talan/datascience-solutions/.venv/lib/python3.12/site-packages (1.0.0)\n",
      "Requirement already satisfied: pyarrow in /Users/andresladino/13-Talan/datascience-solutions/.venv/lib/python3.12/site-packages (15.0.2)\n",
      "Requirement already satisfied: shapely in /Users/andresladino/13-Talan/datascience-solutions/.venv/lib/python3.12/site-packages (2.0.7)\n",
      "Requirement already satisfied: prettytable>=3.12.0 in /Users/andresladino/13-Talan/datascience-solutions/.venv/lib/python3.12/site-packages (from jupysql) (3.14.0)\n",
      "Requirement already satisfied: sqlalchemy in /Users/andresladino/13-Talan/datascience-solutions/.venv/lib/python3.12/site-packages (from jupysql) (2.0.38)\n",
      "Requirement already satisfied: sqlparse in /Users/andresladino/13-Talan/datascience-solutions/.venv/lib/python3.12/site-packages (from jupysql) (0.5.3)\n",
      "Requirement already satisfied: ipython-genutils>=0.1.0 in /Users/andresladino/13-Talan/datascience-solutions/.venv/lib/python3.12/site-packages (from jupysql) (0.2.0)\n",
      "Requirement already satisfied: jinja2 in /Users/andresladino/13-Talan/datascience-solutions/.venv/lib/python3.12/site-packages (from jupysql) (3.1.5)\n",
      "Requirement already satisfied: sqlglot>=11.3.7 in /Users/andresladino/13-Talan/datascience-solutions/.venv/lib/python3.12/site-packages (from jupysql) (26.4.1)\n",
      "Requirement already satisfied: jupysql-plugin>=0.4.2 in /Users/andresladino/13-Talan/datascience-solutions/.venv/lib/python3.12/site-packages (from jupysql) (0.4.5)\n",
      "Requirement already satisfied: ploomber-core>=0.2.7 in /Users/andresladino/13-Talan/datascience-solutions/.venv/lib/python3.12/site-packages (from jupysql) (0.2.26)\n",
      "Requirement already satisfied: duckdb>=0.5.0 in /Users/andresladino/13-Talan/datascience-solutions/.venv/lib/python3.12/site-packages (from duckdb-engine) (1.2.0)\n",
      "Requirement already satisfied: packaging>=21 in /Users/andresladino/13-Talan/datascience-solutions/.venv/lib/python3.12/site-packages (from duckdb-engine) (24.2)\n",
      "Requirement already satisfied: numpy>=1.22 in /Users/andresladino/13-Talan/datascience-solutions/.venv/lib/python3.12/site-packages (from geopandas) (1.26.4)\n",
      "Requirement already satisfied: pyogrio>=0.7.2 in /Users/andresladino/13-Talan/datascience-solutions/.venv/lib/python3.12/site-packages (from geopandas) (0.10.0)\n",
      "Requirement already satisfied: pandas>=1.4.0 in /Users/andresladino/13-Talan/datascience-solutions/.venv/lib/python3.12/site-packages (from geopandas) (2.2.2)\n",
      "Requirement already satisfied: pyproj>=3.3.0 in /Users/andresladino/13-Talan/datascience-solutions/.venv/lib/python3.12/site-packages (from geopandas) (3.7.0)\n",
      "Requirement already satisfied: python-dateutil>=2.8.2 in /Users/andresladino/13-Talan/datascience-solutions/.venv/lib/python3.12/site-packages (from pandas>=1.4.0->geopandas) (2.9.0.post0)\n",
      "Requirement already satisfied: pytz>=2020.1 in /Users/andresladino/13-Talan/datascience-solutions/.venv/lib/python3.12/site-packages (from pandas>=1.4.0->geopandas) (2024.2)\n",
      "Requirement already satisfied: tzdata>=2022.7 in /Users/andresladino/13-Talan/datascience-solutions/.venv/lib/python3.12/site-packages (from pandas>=1.4.0->geopandas) (2025.1)\n",
      "Requirement already satisfied: pyyaml in /Users/andresladino/13-Talan/datascience-solutions/.venv/lib/python3.12/site-packages (from ploomber-core>=0.2.7->jupysql) (6.0.2)\n",
      "Requirement already satisfied: posthog in /Users/andresladino/13-Talan/datascience-solutions/.venv/lib/python3.12/site-packages (from ploomber-core>=0.2.7->jupysql) (3.11.0)\n",
      "Requirement already satisfied: wcwidth in /Users/andresladino/13-Talan/datascience-solutions/.venv/lib/python3.12/site-packages (from prettytable>=3.12.0->jupysql) (0.2.13)\n",
      "Requirement already satisfied: certifi in /Users/andresladino/13-Talan/datascience-solutions/.venv/lib/python3.12/site-packages (from pyogrio>=0.7.2->geopandas) (2025.1.31)\n",
      "Requirement already satisfied: greenlet!=0.4.17 in /Users/andresladino/13-Talan/datascience-solutions/.venv/lib/python3.12/site-packages (from sqlalchemy->jupysql) (3.1.1)\n",
      "Requirement already satisfied: typing-extensions>=4.6.0 in /Users/andresladino/13-Talan/datascience-solutions/.venv/lib/python3.12/site-packages (from sqlalchemy->jupysql) (4.12.2)\n",
      "Requirement already satisfied: MarkupSafe>=2.0 in /Users/andresladino/13-Talan/datascience-solutions/.venv/lib/python3.12/site-packages (from jinja2->jupysql) (3.0.2)\n",
      "Requirement already satisfied: six>=1.5 in /Users/andresladino/13-Talan/datascience-solutions/.venv/lib/python3.12/site-packages (from python-dateutil>=2.8.2->pandas>=1.4.0->geopandas) (1.17.0)\n",
      "Requirement already satisfied: requests<3.0,>=2.7 in /Users/andresladino/13-Talan/datascience-solutions/.venv/lib/python3.12/site-packages (from posthog->ploomber-core>=0.2.7->jupysql) (2.32.3)\n",
      "Requirement already satisfied: monotonic>=1.5 in /Users/andresladino/13-Talan/datascience-solutions/.venv/lib/python3.12/site-packages (from posthog->ploomber-core>=0.2.7->jupysql) (1.6)\n",
      "Requirement already satisfied: backoff>=1.10.0 in /Users/andresladino/13-Talan/datascience-solutions/.venv/lib/python3.12/site-packages (from posthog->ploomber-core>=0.2.7->jupysql) (2.2.1)\n",
      "Requirement already satisfied: charset-normalizer<4,>=2 in /Users/andresladino/13-Talan/datascience-solutions/.venv/lib/python3.12/site-packages (from requests<3.0,>=2.7->posthog->ploomber-core>=0.2.7->jupysql) (3.4.1)\n",
      "Requirement already satisfied: idna<4,>=2.5 in /Users/andresladino/13-Talan/datascience-solutions/.venv/lib/python3.12/site-packages (from requests<3.0,>=2.7->posthog->ploomber-core>=0.2.7->jupysql) (3.10)\n",
      "Requirement already satisfied: urllib3<3,>=1.21.1 in /Users/andresladino/13-Talan/datascience-solutions/.venv/lib/python3.12/site-packages (from requests<3.0,>=2.7->posthog->ploomber-core>=0.2.7->jupysql) (2.3.0)\n",
      "Note: you may need to restart the kernel to use updated packages.\n"
     ]
    }
   ],
   "source": [
    "%pip install jupysql duckdb-engine geopandas pyarrow shapely"
   ]
  },
  {
   "cell_type": "code",
   "execution_count": 2,
   "metadata": {},
   "outputs": [
    {
     "data": {
      "text/html": [
       "<span style=\"None\">The &#x27;toml&#x27; package isn&#x27;t installed. To load settings from pyproject.toml or ~/.jupysql/config, install with: pip install toml</span>"
      ],
      "text/plain": [
       "The 'toml' package isn't installed. To load settings from pyproject.toml or ~/.jupysql/config, install with: pip install toml"
      ]
     },
     "metadata": {},
     "output_type": "display_data"
    },
    {
     "data": {
      "text/html": [
       "<span style=\"None\">Connecting to &#x27;duckdb://&#x27;</span>"
      ],
      "text/plain": [
       "Connecting to 'duckdb://'"
      ]
     },
     "metadata": {},
     "output_type": "display_data"
    }
   ],
   "source": [
    "%load_ext sql\n",
    "%sql duckdb://"
   ]
  },
  {
   "cell_type": "markdown",
   "metadata": {},
   "source": [
    "You may use `%%sql` to query data from the parquet file as shown in the example down below"
   ]
  },
  {
   "cell_type": "code",
   "execution_count": 3,
   "metadata": {},
   "outputs": [
    {
     "data": {
      "text/html": [
       "<span style=\"None\">Running query in &#x27;duckdb://&#x27;</span>"
      ],
      "text/plain": [
       "Running query in 'duckdb://'"
      ]
     },
     "metadata": {},
     "output_type": "display_data"
    },
    {
     "data": {
      "text/html": [
       "<table>\n",
       "    <thead>\n",
       "        <tr>\n",
       "            <th>TRIP_ID</th>\n",
       "            <th>CALL_TYPE</th>\n",
       "            <th>ORIGIN_CALL</th>\n",
       "            <th>ORIGIN_STAND</th>\n",
       "            <th>TAXI_ID</th>\n",
       "            <th>TIMESTAMP</th>\n",
       "            <th>DAY_TYPE</th>\n",
       "            <th>MISSING_DATA</th>\n",
       "            <th>POLYLINE</th>\n",
       "        </tr>\n",
       "    </thead>\n",
       "    <tbody>\n",
       "        <tr>\n",
       "            <td>1372636858620000589</td>\n",
       "            <td>C</td>\n",
       "            <td>None</td>\n",
       "            <td>None</td>\n",
       "            <td>20000589</td>\n",
       "            <td>1372636858</td>\n",
       "            <td>A</td>\n",
       "            <td>False</td>\n",
       "            <td>[[-8.618643,41.141412],[-8.618499,41.141376],[-8.620326,41.14251],[-8.622153,41.143815],[-8.623953,41.144373],[-8.62668,41.144778],[-8.627373,41.144697],[-8.630226,41.14521],[-8.632746,41.14692],[-8.631738,41.148225],[-8.629938,41.150385],[-8.62911,41.151213],[-8.629128,41.15124],[-8.628786,41.152203],[-8.628687,41.152374],[-8.628759,41.152518],[-8.630838,41.15268],[-8.632323,41.153022],[-8.631144,41.154489],[-8.630829,41.154507],[-8.630829,41.154516],[-8.630829,41.154498],[-8.630838,41.154489]]</td>\n",
       "        </tr>\n",
       "        <tr>\n",
       "            <td>1372637303620000596</td>\n",
       "            <td>B</td>\n",
       "            <td>None</td>\n",
       "            <td>7.0</td>\n",
       "            <td>20000596</td>\n",
       "            <td>1372637303</td>\n",
       "            <td>A</td>\n",
       "            <td>False</td>\n",
       "            <td>[[-8.639847,41.159826],[-8.640351,41.159871],[-8.642196,41.160114],[-8.644455,41.160492],[-8.646921,41.160951],[-8.649999,41.161491],[-8.653167,41.162031],[-8.656434,41.16258],[-8.660178,41.163192],[-8.663112,41.163687],[-8.666235,41.1642],[-8.669169,41.164704],[-8.670852,41.165136],[-8.670942,41.166576],[-8.66961,41.167962],[-8.668098,41.168988],[-8.66664,41.170005],[-8.665767,41.170635],[-8.66574,41.170671]]</td>\n",
       "        </tr>\n",
       "    </tbody>\n",
       "</table>"
      ],
      "text/plain": [
       "+---------------------+-----------+-------------+--------------+----------+------------+----------+--------------+----------------------------------------------------------------------------------------------------------------------------------------------------------------------------------------------------------------------------------------------------------------------------------------------------------------------------------------------------------------------------------------------------------------------------------------------------------------------------------------------------------------------+\n",
       "|       TRIP_ID       | CALL_TYPE | ORIGIN_CALL | ORIGIN_STAND | TAXI_ID  | TIMESTAMP  | DAY_TYPE | MISSING_DATA |                                                                                                                                                                                                                                                       POLYLINE                                                                                                                                                                                                                                                       |\n",
       "+---------------------+-----------+-------------+--------------+----------+------------+----------+--------------+----------------------------------------------------------------------------------------------------------------------------------------------------------------------------------------------------------------------------------------------------------------------------------------------------------------------------------------------------------------------------------------------------------------------------------------------------------------------------------------------------------------------+\n",
       "| 1372636858620000589 |     C     |     None    |     None     | 20000589 | 1372636858 |    A     |    False     | [[-8.618643,41.141412],[-8.618499,41.141376],[-8.620326,41.14251],[-8.622153,41.143815],[-8.623953,41.144373],[-8.62668,41.144778],[-8.627373,41.144697],[-8.630226,41.14521],[-8.632746,41.14692],[-8.631738,41.148225],[-8.629938,41.150385],[-8.62911,41.151213],[-8.629128,41.15124],[-8.628786,41.152203],[-8.628687,41.152374],[-8.628759,41.152518],[-8.630838,41.15268],[-8.632323,41.153022],[-8.631144,41.154489],[-8.630829,41.154507],[-8.630829,41.154516],[-8.630829,41.154498],[-8.630838,41.154489]] |\n",
       "| 1372637303620000596 |     B     |     None    |     7.0      | 20000596 | 1372637303 |    A     |    False     |                                            [[-8.639847,41.159826],[-8.640351,41.159871],[-8.642196,41.160114],[-8.644455,41.160492],[-8.646921,41.160951],[-8.649999,41.161491],[-8.653167,41.162031],[-8.656434,41.16258],[-8.660178,41.163192],[-8.663112,41.163687],[-8.666235,41.1642],[-8.669169,41.164704],[-8.670852,41.165136],[-8.670942,41.166576],[-8.66961,41.167962],[-8.668098,41.168988],[-8.66664,41.170005],[-8.665767,41.170635],[-8.66574,41.170671]]                                             |\n",
       "+---------------------+-----------+-------------+--------------+----------+------------+----------+--------------+----------------------------------------------------------------------------------------------------------------------------------------------------------------------------------------------------------------------------------------------------------------------------------------------------------------------------------------------------------------------------------------------------------------------------------------------------------------------------------------------------------------------+"
      ]
     },
     "execution_count": 3,
     "metadata": {},
     "output_type": "execute_result"
    }
   ],
   "source": [
    "%%sql\n",
    "FROM read_parquet('data/train.parquet.gz')\n",
    "LIMIT 2"
   ]
  },
  {
   "cell_type": "markdown",
   "metadata": {},
   "source": [
    "1. As you may see there are some columns containin information about taxi trips. What are the types and the quantities of call types?"
   ]
  },
  {
   "cell_type": "code",
   "execution_count": 4,
   "metadata": {},
   "outputs": [
    {
     "data": {
      "text/html": [
       "<span style=\"None\">Running query in &#x27;duckdb://&#x27;</span>"
      ],
      "text/plain": [
       "Running query in 'duckdb://'"
      ]
     },
     "metadata": {},
     "output_type": "display_data"
    },
    {
     "data": {
      "text/html": [
       "<table>\n",
       "    <thead>\n",
       "        <tr>\n",
       "            <th>CALL_TYPE</th>\n",
       "            <th>cnt</th>\n",
       "        </tr>\n",
       "    </thead>\n",
       "    <tbody>\n",
       "        <tr>\n",
       "            <td>A</td>\n",
       "            <td>364770</td>\n",
       "        </tr>\n",
       "        <tr>\n",
       "            <td>C</td>\n",
       "            <td>528019</td>\n",
       "        </tr>\n",
       "        <tr>\n",
       "            <td>B</td>\n",
       "            <td>817881</td>\n",
       "        </tr>\n",
       "    </tbody>\n",
       "</table>"
      ],
      "text/plain": [
       "+-----------+--------+\n",
       "| CALL_TYPE |  cnt   |\n",
       "+-----------+--------+\n",
       "|     A     | 364770 |\n",
       "|     C     | 528019 |\n",
       "|     B     | 817881 |\n",
       "+-----------+--------+"
      ]
     },
     "execution_count": 4,
     "metadata": {},
     "output_type": "execute_result"
    }
   ],
   "source": [
    "%%sql\n",
    "SELECT\n",
    "    CALL_TYPE,\n",
    "    COUNT(*) cnt\n",
    "FROM read_parquet('data/train.parquet.gz')\n",
    "GROUP BY CALL_TYPE"
   ]
  },
  {
   "cell_type": "markdown",
   "metadata": {},
   "source": [
    "2. What is the ORIGIN CALL and the maximum number of trips within a day of type A (not null ones)"
   ]
  },
  {
   "cell_type": "code",
   "execution_count": 5,
   "metadata": {},
   "outputs": [
    {
     "data": {
      "text/html": [
       "<span style=\"None\">Running query in &#x27;duckdb://&#x27;</span>"
      ],
      "text/plain": [
       "Running query in 'duckdb://'"
      ]
     },
     "metadata": {},
     "output_type": "display_data"
    },
    {
     "data": {
      "text/html": [
       "<table>\n",
       "    <thead>\n",
       "        <tr>\n",
       "            <th>ORIGIN_CALL</th>\n",
       "            <th>DAY_TYPE</th>\n",
       "            <th>cnt</th>\n",
       "        </tr>\n",
       "    </thead>\n",
       "    <tbody>\n",
       "        <tr>\n",
       "            <td>2002.0</td>\n",
       "            <td>A</td>\n",
       "            <td>57571</td>\n",
       "        </tr>\n",
       "        <tr>\n",
       "            <td>63882.0</td>\n",
       "            <td>A</td>\n",
       "            <td>6406</td>\n",
       "        </tr>\n",
       "        <tr>\n",
       "            <td>2001.0</td>\n",
       "            <td>A</td>\n",
       "            <td>2499</td>\n",
       "        </tr>\n",
       "        <tr>\n",
       "            <td>13168.0</td>\n",
       "            <td>A</td>\n",
       "            <td>1314</td>\n",
       "        </tr>\n",
       "        <tr>\n",
       "            <td>6728.0</td>\n",
       "            <td>A</td>\n",
       "            <td>1115</td>\n",
       "        </tr>\n",
       "    </tbody>\n",
       "</table>"
      ],
      "text/plain": [
       "+-------------+----------+-------+\n",
       "| ORIGIN_CALL | DAY_TYPE |  cnt  |\n",
       "+-------------+----------+-------+\n",
       "|    2002.0   |    A     | 57571 |\n",
       "|   63882.0   |    A     |  6406 |\n",
       "|    2001.0   |    A     |  2499 |\n",
       "|   13168.0   |    A     |  1314 |\n",
       "|    6728.0   |    A     |  1115 |\n",
       "+-------------+----------+-------+"
      ]
     },
     "execution_count": 5,
     "metadata": {},
     "output_type": "execute_result"
    }
   ],
   "source": [
    "%%sql\n",
    "SELECT\n",
    "    ORIGIN_CALL,\n",
    "    DAY_TYPE,\n",
    "    COUNT(*) cnt\n",
    "FROM read_parquet('data/train.parquet.gz')\n",
    "GROUP BY ORIGIN_CALL, DAY_TYPE\n",
    "HAVING ORIGIN_CALL IS NOT NULL\n",
    "ORDER BY cnt DESC\n",
    "LIMIT 5"
   ]
  },
  {
   "cell_type": "markdown",
   "metadata": {},
   "source": [
    "3. What is the Taxi with most cumulated trips?"
   ]
  },
  {
   "cell_type": "code",
   "execution_count": 6,
   "metadata": {},
   "outputs": [
    {
     "data": {
      "text/html": [
       "<span style=\"None\">Running query in &#x27;duckdb://&#x27;</span>"
      ],
      "text/plain": [
       "Running query in 'duckdb://'"
      ]
     },
     "metadata": {},
     "output_type": "display_data"
    },
    {
     "data": {
      "text/html": [
       "<table>\n",
       "    <thead>\n",
       "        <tr>\n",
       "            <th>trip_count</th>\n",
       "            <th>TAXI_ID</th>\n",
       "        </tr>\n",
       "    </thead>\n",
       "    <tbody>\n",
       "        <tr>\n",
       "            <td>10746</td>\n",
       "            <td>20000080</td>\n",
       "        </tr>\n",
       "        <tr>\n",
       "            <td>9238</td>\n",
       "            <td>20000403</td>\n",
       "        </tr>\n",
       "        <tr>\n",
       "            <td>8449</td>\n",
       "            <td>20000066</td>\n",
       "        </tr>\n",
       "        <tr>\n",
       "            <td>7821</td>\n",
       "            <td>20000364</td>\n",
       "        </tr>\n",
       "        <tr>\n",
       "            <td>7729</td>\n",
       "            <td>20000483</td>\n",
       "        </tr>\n",
       "        <tr>\n",
       "            <td>7609</td>\n",
       "            <td>20000129</td>\n",
       "        </tr>\n",
       "        <tr>\n",
       "            <td>7498</td>\n",
       "            <td>20000307</td>\n",
       "        </tr>\n",
       "        <tr>\n",
       "            <td>7276</td>\n",
       "            <td>20000621</td>\n",
       "        </tr>\n",
       "        <tr>\n",
       "            <td>7267</td>\n",
       "            <td>20000089</td>\n",
       "        </tr>\n",
       "        <tr>\n",
       "            <td>7176</td>\n",
       "            <td>20000424</td>\n",
       "        </tr>\n",
       "    </tbody>\n",
       "</table>\n",
       "<span style=\"font-style:italic;text-align:center;\">Truncated to <a href=\"https://jupysql.ploomber.io/en/latest/api/configuration.html#displaylimit\">displaylimit</a> of 10.</span>"
      ],
      "text/plain": [
       "+------------+----------+\n",
       "| trip_count | TAXI_ID  |\n",
       "+------------+----------+\n",
       "|   10746    | 20000080 |\n",
       "|    9238    | 20000403 |\n",
       "|    8449    | 20000066 |\n",
       "|    7821    | 20000364 |\n",
       "|    7729    | 20000483 |\n",
       "|    7609    | 20000129 |\n",
       "|    7498    | 20000307 |\n",
       "|    7276    | 20000621 |\n",
       "|    7267    | 20000089 |\n",
       "|    7176    | 20000424 |\n",
       "+------------+----------+\n",
       "Truncated to displaylimit of 10."
      ]
     },
     "execution_count": 6,
     "metadata": {},
     "output_type": "execute_result"
    }
   ],
   "source": [
    "%%sql\n",
    "SELECT\n",
    "    COUNT(*) trip_count,\n",
    "    TAXI_ID\n",
    "FROM read_parquet('data/train.parquet.gz')\n",
    "GROUP BY TAXI_ID\n",
    "ORDER BY trip_count DESC\n",
    "LIMIT 10"
   ]
  },
  {
   "cell_type": "markdown",
   "metadata": {},
   "source": [
    "4. What is the average time difference between two trips ?"
   ]
  },
  {
   "cell_type": "code",
   "execution_count": 26,
   "metadata": {},
   "outputs": [
    {
     "data": {
      "text/html": [
       "<span style=\"None\">Running query in &#x27;duckdb://&#x27;</span>"
      ],
      "text/plain": [
       "Running query in 'duckdb://'"
      ]
     },
     "metadata": {},
     "output_type": "display_data"
    },
    {
     "data": {
      "text/html": [
       "<table>\n",
       "    <thead>\n",
       "        <tr>\n",
       "            <th>avg_time</th>\n",
       "        </tr>\n",
       "    </thead>\n",
       "    <tbody>\n",
       "        <tr>\n",
       "            <td>29.40182794982172</td>\n",
       "        </tr>\n",
       "    </tbody>\n",
       "</table>"
      ],
      "text/plain": [
       "+-------------------+\n",
       "|      avg_time     |\n",
       "+-------------------+\n",
       "| 29.40182794982172 |\n",
       "+-------------------+"
      ]
     },
     "execution_count": 26,
     "metadata": {},
     "output_type": "execute_result"
    }
   ],
   "source": [
    "%%sql\n",
    "WITH taxi_times AS (\n",
    "    SELECT\n",
    "        TAXI_ID,\n",
    "        to_timestamp(TIMESTAMP) as current,\n",
    "        LAG(to_timestamp(TIMESTAMP)) OVER (PARTITION BY TAXI_ID ORDER BY TIMESTAMP) as previous\n",
    "    FROM read_parquet('data/train.parquet.gz')\n",
    ")\n",
    "SELECT\n",
    "    AVG(EXTRACT(SECOND FROM current - previous)) as avg_time\n",
    "FROM taxi_times\n"
   ]
  },
  {
   "cell_type": "markdown",
   "metadata": {},
   "source": [
    "# Fin"
   ]
  }
 ],
 "metadata": {
  "kernelspec": {
   "display_name": ".venv",
   "language": "python",
   "name": "python3"
  },
  "language_info": {
   "codemirror_mode": {
    "name": "ipython",
    "version": 3
   },
   "file_extension": ".py",
   "mimetype": "text/x-python",
   "name": "python",
   "nbconvert_exporter": "python",
   "pygments_lexer": "ipython3",
   "version": "3.12.7"
  }
 },
 "nbformat": 4,
 "nbformat_minor": 2
}
